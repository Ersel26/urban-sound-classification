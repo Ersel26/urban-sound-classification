{
  "nbformat": 4,
  "nbformat_minor": 0,
  "metadata": {
    "colab": {
      "provenance": [],
      "mount_file_id": "14ibdRgDniSEuIH0rB5lUbQmINes639_D",
      "authorship_tag": "ABX9TyPUcbfcT8OUqVoiip5kZ+F0",
      "include_colab_link": true
    },
    "kernelspec": {
      "name": "python3",
      "display_name": "Python 3"
    },
    "language_info": {
      "name": "python"
    }
  },
  "cells": [
    {
      "cell_type": "markdown",
      "metadata": {
        "id": "view-in-github",
        "colab_type": "text"
      },
      "source": [
        "<a href=\"https://colab.research.google.com/github/Ersel26/urban-sound-classification/blob/main/urban_sounds.ipynb\" target=\"_parent\"><img src=\"https://colab.research.google.com/assets/colab-badge.svg\" alt=\"Open In Colab\"/></a>"
      ]
    },
    {
      "cell_type": "code",
      "execution_count": 1,
      "metadata": {
        "id": "CuZRlU2Z637L"
      },
      "outputs": [],
      "source": [
        "import os\n",
        "import cv2\n",
        "import numpy as np\n",
        "import pandas as pd\n",
        "import matplotlib.pyplot as plt\n",
        "import seaborn as sns\n",
        "import tensorflow as tf\n",
        "from skimage import color\n",
        "import random"
      ]
    },
    {
      "cell_type": "code",
      "source": [
        "def load_images(folder):\n",
        "    images = []\n",
        "    labels = []\n",
        "    for filename in os.listdir(folder):\n",
        "        label = filename.split(\"-\")[1]\n",
        "        labels.append(label)\n",
        "\n",
        "        img = cv2.imread(os.path.join(folder,filename))\n",
        "        if img is not None:\n",
        "            img = cv2.resize(img, (64, 64))\n",
        "            img = color.rgb2gray(img)\n",
        "\n",
        "            images.append(img)\n",
        "    return (images, labels)"
      ],
      "metadata": {
        "id": "bJfoG2Ia7Dp1"
      },
      "execution_count": 2,
      "outputs": []
    },
    {
      "cell_type": "code",
      "source": [
        "fold_path = \"/content/drive/MyDrive/Colab Notebooks/urban sounds/spectrograms\"\n",
        "\n",
        "fold0_imgs, fold0_labels = load_images(fold_path + \"/0\")\n",
        "fold1_imgs, fold1_labels = load_images(fold_path + \"/1\")\n",
        "fold2_imgs, fold2_labels = load_images(fold_path + \"/2\")\n",
        "fold3_imgs, fold3_labels = load_images(fold_path + \"/3\")\n",
        "fold4_imgs, fold4_labels = load_images(fold_path + \"/4\")\n",
        "fold5_imgs, fold5_labels = load_images(fold_path + \"/5\")\n",
        "fold6_imgs, fold6_labels = load_images(fold_path + \"/6\")\n",
        "fold7_imgs, fold7_labels = load_images(fold_path + \"/7\")\n",
        "fold8_imgs, fold8_labels = load_images(fold_path + \"/8\")\n",
        "fold9_imgs, fold9_labels = load_images(fold_path + \"/9\")"
      ],
      "metadata": {
        "id": "HUaohNF2DJiu"
      },
      "execution_count": 3,
      "outputs": []
    },
    {
      "cell_type": "code",
      "source": [
        "img = fold9_imgs[111]\n",
        "\n",
        "plt.imshow(img)\n",
        "plt.show()\n",
        "\n",
        "print(img.shape)"
      ],
      "metadata": {
        "colab": {
          "base_uri": "https://localhost:8080/",
          "height": 285
        },
        "id": "qr9BB2vsH80o",
        "outputId": "d68ee567-7576-4d8a-b3b3-6a35845f9832"
      },
      "execution_count": 4,
      "outputs": [
        {
          "output_type": "display_data",
          "data": {
            "text/plain": [
              "<Figure size 432x288 with 1 Axes>"
            ],
            "image/png": "[encoded data removed]"
          },
          "metadata": {
            "needs_background": "light"
          }
        },
        {
          "output_type": "stream",
          "name": "stdout",
          "text": [
            "(64, 64)\n"
          ]
        }
      ]
    },
    {
      "cell_type": "code",
      "source": [
        "imgs = np.concatenate((fold0_imgs, \n",
        "                       fold1_imgs, \n",
        "                       fold2_imgs, \n",
        "                       fold3_imgs, \n",
        "                       fold4_imgs, \n",
        "                       fold5_imgs, \n",
        "                       fold6_imgs, \n",
        "                       fold7_imgs, \n",
        "                       fold8_imgs, \n",
        "                       fold9_imgs,), axis = 0)\n",
        "\n",
        "labels = np.concatenate((fold0_labels,\n",
        "                         fold1_labels,\n",
        "                         fold2_labels,\n",
        "                         fold3_labels,\n",
        "                         fold4_labels,\n",
        "                         fold5_labels,\n",
        "                         fold6_labels,\n",
        "                         fold7_labels,\n",
        "                         fold8_labels,\n",
        "                         fold9_labels,), axis = 0)\n"
      ],
      "metadata": {
        "id": "7LETUc2BCE4n"
      },
      "execution_count": 5,
      "outputs": []
    },
    {
      "cell_type": "code",
      "source": [
        "data = []\n",
        "for i in range(len(imgs)):\n",
        "    data.append([imgs[i], int(labels[i])])\n",
        "\n",
        "random.seed(111)\n",
        "random.shuffle(data)\n",
        "\n",
        "data[0]"
      ],
      "metadata": {
        "id": "7Y-VARE669Am",
        "colab": {
          "base_uri": "https://localhost:8080/"
        },
        "outputId": "ae0d707f-386a-4202-e55b-fed3cdb4bfd5"
      },
      "execution_count": 36,
      "outputs": [
        {
          "output_type": "execute_result",
          "data": {
            "text/plain": [
              "[array([[0.97647059, 0.00333333, 0.12984431, ..., 0.00333333, 0.00333333,\n",
              "         0.00333333],\n",
              "        [0.97647059, 0.26210941, 0.33366784, ..., 0.00333333, 0.00333333,\n",
              "         0.00333333],\n",
              "        [0.97647059, 0.17533569, 0.29813373, ..., 0.00333333, 0.00333333,\n",
              "         0.00333333],\n",
              "        ...,\n",
              "        [0.97647059, 0.44023294, 0.64541725, ..., 0.00333333, 0.00333333,\n",
              "         0.00333333],\n",
              "        [0.97647059, 0.54007608, 0.87415804, ..., 0.14932275, 0.13930078,\n",
              "         0.14709059],\n",
              "        [0.99607843, 0.97647059, 0.97647059, ..., 0.97647059, 0.97647059,\n",
              "         0.97647059]]), 6]"
            ]
          },
          "metadata": {},
          "execution_count": 36
        }
      ]
    },
    {
      "cell_type": "code",
      "source": [
        "shuf_imgs = []\n",
        "shuf_labels = []\n",
        "\n",
        "for i in range(len(data)):\n",
        "  shuf_imgs.append(data[i][0])\n",
        "  shuf_labels.append(data[i][1])"
      ],
      "metadata": {
        "id": "h-22DHsMxWfG"
      },
      "execution_count": 37,
      "outputs": []
    },
    {
      "cell_type": "code",
      "source": [
        "X_train = np.array(shuf_imgs[:int(0.7*len(shuf_imgs))])\n",
        "X_val = np.array(shuf_imgs[int(0.7*len(shuf_imgs)):int(0.85*len(shuf_imgs))])\n",
        "X_test = np.array(shuf_imgs[int(0.85*len(shuf_imgs)):])\n",
        "\n",
        "y_train = np.array(shuf_labels[:int(0.7*len(shuf_labels))])\n",
        "y_val = np.array(shuf_labels[int(0.7*len(shuf_labels)):int(0.85*len(shuf_labels))])\n",
        "y_test = np.array(shuf_labels[int(0.85*len(shuf_labels)):])"
      ],
      "metadata": {
        "id": "zVrzwMzsywoO"
      },
      "execution_count": 40,
      "outputs": []
    },
    {
      "cell_type": "code",
      "source": [
        "np.save(\"X_train\", X_train)\n",
        "np.save(\"X_val\", X_val)\n",
        "np.save(\"X_test\", X_test)\n",
        "np.save(\"y_train\", y_train)\n",
        "np.save(\"y_val\", y_val)\n",
        "np.save(\"y_test\", y_test)"
      ],
      "metadata": {
        "id": "8ueq_xSq2fVg"
      },
      "execution_count": 42,
      "outputs": []
    },
    {
      "cell_type": "code",
      "source": [
        "X_train[111].shape"
      ],
      "metadata": {
        "colab": {
          "base_uri": "https://localhost:8080/"
        },
        "id": "d8lohsz0efle",
        "outputId": "eeb8ece3-6f11-42e6-e09d-2418b60004b3"
      },
      "execution_count": 43,
      "outputs": [
        {
          "output_type": "execute_result",
          "data": {
            "text/plain": [
              "(64, 64)"
            ]
          },
          "metadata": {},
          "execution_count": 43
        }
      ]
    },
    {
      "cell_type": "code",
      "source": [
        "from sklearn.preprocessing import LabelEncoder\n",
        "\n",
        "lb = LabelEncoder()\n",
        "\n",
        "lb.fit_transform(y_train)\n",
        "lb.transform(y_val)"
      ],
      "metadata": {
        "colab": {
          "base_uri": "https://localhost:8080/"
        },
        "id": "nq3D1JWUuxxU",
        "outputId": "20856eb6-feff-46a5-e8ba-098abd6f9d34"
      },
      "execution_count": 44,
      "outputs": [
        {
          "output_type": "execute_result",
          "data": {
            "text/plain": [
              "array([9, 0, 6, ..., 2, 4, 5])"
            ]
          },
          "metadata": {},
          "execution_count": 44
        }
      ]
    },
    {
      "cell_type": "code",
      "source": [
        "CNNmodel = tf.keras.Sequential()"
      ],
      "metadata": {
        "id": "gPXYVxSP4H_D"
      },
      "execution_count": 45,
      "outputs": []
    },
    {
      "cell_type": "code",
      "source": [
        "CNNmodel.add(tf.keras.layers.Conv2D(\n",
        "    filters = 32,\n",
        "    kernel_size = (3,3),\n",
        "    strides = (1,1),\n",
        "    padding = \"same\",\n",
        "    activation = \"relu\",\n",
        "    input_shape = (64, 64, 1)\n",
        "))\n",
        "\n",
        "CNNmodel.add(tf.keras.layers.MaxPooling2D(\n",
        "    pool_size = (2,2)\n",
        "))"
      ],
      "metadata": {
        "id": "BqgIMNb1dYRc"
      },
      "execution_count": 46,
      "outputs": []
    },
    {
      "cell_type": "code",
      "source": [
        "CNNmodel.add(tf.keras.layers.Conv2D(\n",
        "    filters = 64,\n",
        "    kernel_size = (3,3),\n",
        "    strides = (1,1),\n",
        "    padding = \"same\",\n",
        "    activation = \"relu\",\n",
        "))\n",
        "\n",
        "CNNmodel.add(tf.keras.layers.MaxPooling2D(\n",
        "    pool_size = (2,2)\n",
        "))\n",
        "\n",
        "CNNmodel.add(tf.keras.layers.Conv2D(\n",
        "    filters = 64,\n",
        "    kernel_size = (3,3),\n",
        "    strides = (1,1),\n",
        "    padding = \"same\",\n",
        "    activation = \"relu\",\n",
        "))"
      ],
      "metadata": {
        "id": "tXOm8UuLdcUJ"
      },
      "execution_count": 47,
      "outputs": []
    },
    {
      "cell_type": "code",
      "source": [
        "CNNmodel.add(tf.keras.layers.Flatten())"
      ],
      "metadata": {
        "id": "Bnkyo1O3dfJU"
      },
      "execution_count": 48,
      "outputs": []
    },
    {
      "cell_type": "code",
      "source": [
        "CNNmodel.add(tf.keras.layers.Dense(\n",
        "    64,\n",
        "    activation = \"relu\",\n",
        "))\n",
        "CNNmodel.add(tf.keras.layers.Dropout(\n",
        "    0.5\n",
        "))\n",
        "\n",
        "\n",
        "CNNmodel.add(tf.keras.layers.Dense(\n",
        "    64,\n",
        "    activation = \"relu\",\n",
        "))\n",
        "CNNmodel.add(tf.keras.layers.Dropout(\n",
        "    0.5\n",
        "))"
      ],
      "metadata": {
        "id": "DtUz3pt6dhUh"
      },
      "execution_count": 49,
      "outputs": []
    },
    {
      "cell_type": "code",
      "source": [
        "CNNmodel.add(tf.keras.layers.Dense(\n",
        "    10,\n",
        "    activation = \"softmax\"\n",
        "))"
      ],
      "metadata": {
        "id": "pLZjGaNGdjmM"
      },
      "execution_count": 50,
      "outputs": []
    },
    {
      "cell_type": "code",
      "source": [
        "CNNmodel.compile(\n",
        "    optimizer = \"adam\",\n",
        "    loss = \"sparse_categorical_crossentropy\",\n",
        "    metrics = [\"accuracy\"]\n",
        ")"
      ],
      "metadata": {
        "id": "DFdylBladrnV"
      },
      "execution_count": 51,
      "outputs": []
    },
    {
      "cell_type": "code",
      "source": [
        "from tensorflow.keras.callbacks import EarlyStopping\n",
        "early_stop = EarlyStopping(monitor = \"val_loss\", mode = \"min\", verbose = 1, patience = 5)"
      ],
      "metadata": {
        "id": "vJUStbnjdt08"
      },
      "execution_count": 52,
      "outputs": []
    },
    {
      "cell_type": "code",
      "source": [
        "CNNmodel.fit(\n",
        "    x = X_train,\n",
        "    y = y_train,\n",
        "    batch_size = 128,\n",
        "    epochs = 25,\n",
        "    validation_data = (X_val, y_val),\n",
        "    callbacks = [early_stop]\n",
        ")"
      ],
      "metadata": {
        "colab": {
          "base_uri": "https://localhost:8080/"
        },
        "id": "RoiFJHyod0GD",
        "outputId": "66934d98-c2d7-4fef-b1ac-882216982c61"
      },
      "execution_count": 53,
      "outputs": [
        {
          "output_type": "stream",
          "name": "stdout",
          "text": [
            "Epoch 1/25\n",
            "48/48 [==============================] - 47s 969ms/step - loss: 2.0798 - accuracy: 0.2330 - val_loss: 1.6852 - val_accuracy: 0.4206\n",
            "Epoch 2/25\n",
            "48/48 [==============================] - 45s 934ms/step - loss: 1.8079 - accuracy: 0.3431 - val_loss: 1.4270 - val_accuracy: 0.5290\n",
            "Epoch 3/25\n",
            "48/48 [==============================] - 44s 923ms/step - loss: 1.6003 - accuracy: 0.4280 - val_loss: 1.2496 - val_accuracy: 0.6221\n",
            "Epoch 4/25\n",
            "48/48 [==============================] - 44s 921ms/step - loss: 1.4356 - accuracy: 0.4972 - val_loss: 1.1074 - val_accuracy: 0.6588\n",
            "Epoch 5/25\n",
            "48/48 [==============================] - 46s 966ms/step - loss: 1.3075 - accuracy: 0.5425 - val_loss: 0.9597 - val_accuracy: 0.7130\n",
            "Epoch 6/25\n",
            "48/48 [==============================] - 44s 926ms/step - loss: 1.2168 - accuracy: 0.5867 - val_loss: 0.9087 - val_accuracy: 0.7290\n",
            "Epoch 7/25\n",
            "48/48 [==============================] - 45s 929ms/step - loss: 1.1020 - accuracy: 0.6237 - val_loss: 0.8004 - val_accuracy: 0.7603\n",
            "Epoch 8/25\n",
            "48/48 [==============================] - 45s 931ms/step - loss: 1.0328 - accuracy: 0.6536 - val_loss: 0.7732 - val_accuracy: 0.7748\n",
            "Epoch 9/25\n",
            "48/48 [==============================] - 47s 984ms/step - loss: 0.9634 - accuracy: 0.6803 - val_loss: 0.7285 - val_accuracy: 0.7763\n",
            "Epoch 10/25\n",
            "48/48 [==============================] - 48s 994ms/step - loss: 0.9072 - accuracy: 0.6970 - val_loss: 0.6895 - val_accuracy: 0.7931\n",
            "Epoch 11/25\n",
            "48/48 [==============================] - 45s 929ms/step - loss: 0.8326 - accuracy: 0.7217 - val_loss: 0.6459 - val_accuracy: 0.8069\n",
            "Epoch 12/25\n",
            "48/48 [==============================] - 47s 974ms/step - loss: 0.8214 - accuracy: 0.7294 - val_loss: 0.6295 - val_accuracy: 0.8122\n",
            "Epoch 13/25\n",
            "48/48 [==============================] - 47s 986ms/step - loss: 0.7435 - accuracy: 0.7495 - val_loss: 0.6334 - val_accuracy: 0.8191\n",
            "Epoch 14/25\n",
            "48/48 [==============================] - 45s 933ms/step - loss: 0.6971 - accuracy: 0.7677 - val_loss: 0.6439 - val_accuracy: 0.8153\n",
            "Epoch 15/25\n",
            "48/48 [==============================] - 44s 917ms/step - loss: 0.6612 - accuracy: 0.7773 - val_loss: 0.5791 - val_accuracy: 0.8298\n",
            "Epoch 16/25\n",
            "48/48 [==============================] - 46s 965ms/step - loss: 0.6441 - accuracy: 0.7886 - val_loss: 0.6563 - val_accuracy: 0.8099\n",
            "Epoch 17/25\n",
            "48/48 [==============================] - 44s 928ms/step - loss: 0.5822 - accuracy: 0.7984 - val_loss: 0.5460 - val_accuracy: 0.8420\n",
            "Epoch 18/25\n",
            "48/48 [==============================] - 44s 927ms/step - loss: 0.5669 - accuracy: 0.8071 - val_loss: 0.5498 - val_accuracy: 0.8405\n",
            "Epoch 19/25\n",
            "48/48 [==============================] - 45s 930ms/step - loss: 0.5363 - accuracy: 0.8172 - val_loss: 0.5436 - val_accuracy: 0.8435\n",
            "Epoch 20/25\n",
            "48/48 [==============================] - 46s 969ms/step - loss: 0.5159 - accuracy: 0.8212 - val_loss: 0.5789 - val_accuracy: 0.8435\n",
            "Epoch 21/25\n",
            "48/48 [==============================] - 44s 925ms/step - loss: 0.5099 - accuracy: 0.8210 - val_loss: 0.5179 - val_accuracy: 0.8557\n",
            "Epoch 22/25\n",
            "48/48 [==============================] - 45s 930ms/step - loss: 0.4765 - accuracy: 0.8343 - val_loss: 0.5452 - val_accuracy: 0.8489\n",
            "Epoch 23/25\n",
            "48/48 [==============================] - 44s 927ms/step - loss: 0.4843 - accuracy: 0.8334 - val_loss: 0.5348 - val_accuracy: 0.8527\n",
            "Epoch 24/25\n",
            "48/48 [==============================] - 47s 974ms/step - loss: 0.4296 - accuracy: 0.8509 - val_loss: 0.5198 - val_accuracy: 0.8656\n",
            "Epoch 25/25\n",
            "48/48 [==============================] - 45s 938ms/step - loss: 0.4114 - accuracy: 0.8534 - val_loss: 0.5473 - val_accuracy: 0.8695\n"
          ]
        },
        {
          "output_type": "execute_result",
          "data": {
            "text/plain": [
              "<keras.callbacks.History at 0x7fc04f5b9b50>"
            ]
          },
          "metadata": {},
          "execution_count": 53
        }
      ]
    },
    {
      "cell_type": "code",
      "source": [
        "CNNmodel.history.history"
      ],
      "metadata": {
        "id": "rwhm2m_QeYv7",
        "colab": {
          "base_uri": "https://localhost:8080/"
        },
        "outputId": "0943bb1f-c9a3-42e1-ae07-1f9916514eae"
      },
      "execution_count": 54,
      "outputs": [
        {
          "output_type": "execute_result",
          "data": {
            "text/plain": [
              "{'loss': [2.0798139572143555,\n",
              "  1.8078713417053223,\n",
              "  1.6002857685089111,\n",
              "  1.4355928897857666,\n",
              "  1.307497501373291,\n",
              "  1.216825008392334,\n",
              "  1.101955533027649,\n",
              "  1.0328466892242432,\n",
              "  0.9634150266647339,\n",
              "  0.9072455167770386,\n",
              "  0.8325881361961365,\n",
              "  0.8213702440261841,\n",
              "  0.7435098886489868,\n",
              "  0.6970792412757874,\n",
              "  0.6612384915351868,\n",
              "  0.6440805792808533,\n",
              "  0.5821624398231506,\n",
              "  0.5668864846229553,\n",
              "  0.5363048315048218,\n",
              "  0.5158533453941345,\n",
              "  0.5098674893379211,\n",
              "  0.4765031933784485,\n",
              "  0.484297513961792,\n",
              "  0.429643452167511,\n",
              "  0.4114018678665161],\n",
              " 'accuracy': [0.2329842895269394,\n",
              "  0.3430955410003662,\n",
              "  0.4280104637145996,\n",
              "  0.4972185790538788,\n",
              "  0.5425392389297485,\n",
              "  0.5867146849632263,\n",
              "  0.6236910820007324,\n",
              "  0.6536322236061096,\n",
              "  0.6803010702133179,\n",
              "  0.6969895362854004,\n",
              "  0.7216950058937073,\n",
              "  0.7293848395347595,\n",
              "  0.7495091557502747,\n",
              "  0.7676701545715332,\n",
              "  0.777323305606842,\n",
              "  0.7886125445365906,\n",
              "  0.7984293103218079,\n",
              "  0.807100772857666,\n",
              "  0.8172447681427002,\n",
              "  0.8211714625358582,\n",
              "  0.8210078477859497,\n",
              "  0.8342604637145996,\n",
              "  0.8334423899650574,\n",
              "  0.8509489297866821,\n",
              "  0.8534031510353088],\n",
              " 'val_loss': [1.6852000951766968,\n",
              "  1.4269853830337524,\n",
              "  1.2496479749679565,\n",
              "  1.1074177026748657,\n",
              "  0.9596672058105469,\n",
              "  0.9086806774139404,\n",
              "  0.8003849387168884,\n",
              "  0.7732076048851013,\n",
              "  0.7285319566726685,\n",
              "  0.6895492672920227,\n",
              "  0.6458956599235535,\n",
              "  0.6294522881507874,\n",
              "  0.6333905458450317,\n",
              "  0.6439192891120911,\n",
              "  0.5791444182395935,\n",
              "  0.6563475131988525,\n",
              "  0.5460109710693359,\n",
              "  0.5498218536376953,\n",
              "  0.5435579419136047,\n",
              "  0.5789296627044678,\n",
              "  0.5178623199462891,\n",
              "  0.5451837182044983,\n",
              "  0.5348120331764221,\n",
              "  0.5197522640228271,\n",
              "  0.5473384261131287],\n",
              " 'val_accuracy': [0.4206106960773468,\n",
              "  0.529007613658905,\n",
              "  0.6221374273300171,\n",
              "  0.6587786078453064,\n",
              "  0.7129771113395691,\n",
              "  0.7290076613426208,\n",
              "  0.7603053450584412,\n",
              "  0.7748091816902161,\n",
              "  0.7763358950614929,\n",
              "  0.7931297421455383,\n",
              "  0.8068702220916748,\n",
              "  0.8122137188911438,\n",
              "  0.8190839886665344,\n",
              "  0.8152672052383423,\n",
              "  0.8297709822654724,\n",
              "  0.8099236488342285,\n",
              "  0.841984748840332,\n",
              "  0.8404580354690552,\n",
              "  0.8435114622116089,\n",
              "  0.8435114622116089,\n",
              "  0.8557251691818237,\n",
              "  0.8488549590110779,\n",
              "  0.85267174243927,\n",
              "  0.8656488656997681,\n",
              "  0.8694656491279602]}"
            ]
          },
          "metadata": {},
          "execution_count": 54
        }
      ]
    },
    {
      "cell_type": "code",
      "source": [
        "plt.plot(CNNmodel.history.history[\"loss\"], label = \"loss\")\n",
        "plt.plot(CNNmodel.history.history[\"val_loss\"], label = \"val_loss\")\n",
        "\n",
        "plt.xlabel(\"Epoch\")\n",
        "plt.ylabel(\"loss\")\n",
        "\n",
        "plt.legend()\n",
        "\n",
        "plt.show()"
      ],
      "metadata": {
        "colab": {
          "base_uri": "https://localhost:8080/",
          "height": 279
        },
        "id": "0l9QWIWB2uzJ",
        "outputId": "868e0a97-73fc-4448-cb4b-622f9123f9b7"
      },
      "execution_count": 57,
      "outputs": [
        {
          "output_type": "display_data",
          "data": {
            "text/plain": [
              "<Figure size 432x288 with 1 Axes>"
            ],
            "image/png": "[encoded data removed]"
          },
          "metadata": {
            "needs_background": "light"
          }
        }
      ]
    },
    {
      "cell_type": "code",
      "source": [
        "plt.plot(CNNmodel.history.history[\"accuracy\"], label = \"accuracy\")\n",
        "plt.plot(CNNmodel.history.history[\"val_accuracy\"], label = \"val_accuracy\")\n",
        "\n",
        "plt.xlabel(\"Epoch\")\n",
        "plt.ylabel(\"accuracy\")\n",
        "\n",
        "plt.legend()\n",
        "\n",
        "plt.show()"
      ],
      "metadata": {
        "colab": {
          "base_uri": "https://localhost:8080/",
          "height": 283
        },
        "id": "8tNmiDuI23t2",
        "outputId": "e7cfaf3a-d945-4a0a-dc0b-1acfba0a4752"
      },
      "execution_count": 58,
      "outputs": [
        {
          "output_type": "display_data",
          "data": {
            "text/plain": [
              "<Figure size 432x288 with 1 Axes>"
            ],
            "image/png": "[encoded data removed]"
          },
          "metadata": {
            "needs_background": "light"
          }
        }
      ]
    }
  ]
}